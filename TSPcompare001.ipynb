{
  "cells": [
    {
      "cell_type": "code",
      "execution_count": 2,
      "metadata": {
        "colab": {
          "base_uri": "https://localhost:8080/"
        },
        "id": "Kj9riDlVbgWJ",
        "outputId": "212ac015-8fe7-4097-94a4-282423fa2c51"
      },
      "outputs": [
        {
          "name": "stdout",
          "output_type": "stream",
          "text": [
            "Python 3.11.3\n"
          ]
        }
      ],
      "source": [
        "!python3 --version"
      ]
    },
    {
      "cell_type": "code",
      "execution_count": 4,
      "metadata": {},
      "outputs": [
        {
          "name": "stdout",
          "output_type": "stream",
          "text": [
            "Collecting numpy\n",
            "  Downloading numpy-2.3.1-cp311-cp311-macosx_14_0_arm64.whl (5.4 MB)\n",
            "\u001b[2K     \u001b[90m━━━━━━━━━━━━━━━━━━━━━━━━━━━━━━━━━━━━━━━━\u001b[0m \u001b[32m5.4/5.4 MB\u001b[0m \u001b[31m35.6 MB/s\u001b[0m eta \u001b[36m0:00:00\u001b[0m00:01\u001b[0m00:01\u001b[0m\n",
            "\u001b[?25hCollecting matplotlib\n",
            "  Downloading matplotlib-3.10.3-cp311-cp311-macosx_11_0_arm64.whl (8.1 MB)\n",
            "\u001b[2K     \u001b[90m━━━━━━━━━━━━━━━━━━━━━━━━━━━━━━━━━━━━━━━━\u001b[0m \u001b[32m8.1/8.1 MB\u001b[0m \u001b[31m69.8 MB/s\u001b[0m eta \u001b[36m0:00:00\u001b[0m00:01\u001b[0m00:01\u001b[0m\n",
            "\u001b[?25hCollecting contourpy>=1.0.1\n",
            "  Downloading contourpy-1.3.2-cp311-cp311-macosx_11_0_arm64.whl (254 kB)\n",
            "\u001b[2K     \u001b[90m━━━━━━━━━━━━━━━━━━━━━━━━━━━━━━━━━━━━━━\u001b[0m \u001b[32m254.6/254.6 kB\u001b[0m \u001b[31m22.5 MB/s\u001b[0m eta \u001b[36m0:00:00\u001b[0m\n",
            "\u001b[?25hCollecting cycler>=0.10\n",
            "  Downloading cycler-0.12.1-py3-none-any.whl (8.3 kB)\n",
            "Collecting fonttools>=4.22.0\n",
            "  Downloading fonttools-4.59.0-cp311-cp311-macosx_10_9_universal2.whl (2.8 MB)\n",
            "\u001b[2K     \u001b[90m━━━━━━━━━━━━━━━━━━━━━━━━━━━━━━━━━━━━━━━━\u001b[0m \u001b[32m2.8/2.8 MB\u001b[0m \u001b[31m71.2 MB/s\u001b[0m eta \u001b[36m0:00:00\u001b[0m00:01\u001b[0m\n",
            "\u001b[?25hCollecting kiwisolver>=1.3.1\n",
            "  Downloading kiwisolver-1.4.8-cp311-cp311-macosx_11_0_arm64.whl (65 kB)\n",
            "\u001b[2K     \u001b[90m━━━━━━━━━━━━━━━━━━━━━━━━━━━━━━━━━━━━━━━━\u001b[0m \u001b[32m65.4/65.4 kB\u001b[0m \u001b[31m6.6 MB/s\u001b[0m eta \u001b[36m0:00:00\u001b[0m\n",
            "\u001b[?25hRequirement already satisfied: packaging>=20.0 in /Library/Frameworks/Python.framework/Versions/3.11/lib/python3.11/site-packages (from matplotlib) (25.0)\n",
            "Collecting pillow>=8\n",
            "  Downloading pillow-11.3.0-cp311-cp311-macosx_11_0_arm64.whl (4.7 MB)\n",
            "\u001b[2K     \u001b[90m━━━━━━━━━━━━━━━━━━━━━━━━━━━━━━━━━━━━━━━━\u001b[0m \u001b[32m4.7/4.7 MB\u001b[0m \u001b[31m71.2 MB/s\u001b[0m eta \u001b[36m0:00:00\u001b[0ma \u001b[36m0:00:01\u001b[0m\n",
            "\u001b[?25hCollecting pyparsing>=2.3.1\n",
            "  Downloading pyparsing-3.2.3-py3-none-any.whl (111 kB)\n",
            "\u001b[2K     \u001b[90m━━━━━━━━━━━━━━━━━━━━━━━━━━━━━━━━━━━━━━\u001b[0m \u001b[32m111.1/111.1 kB\u001b[0m \u001b[31m12.8 MB/s\u001b[0m eta \u001b[36m0:00:00\u001b[0m\n",
            "\u001b[?25hRequirement already satisfied: python-dateutil>=2.7 in /Library/Frameworks/Python.framework/Versions/3.11/lib/python3.11/site-packages (from matplotlib) (2.9.0.post0)\n",
            "Requirement already satisfied: six>=1.5 in /Library/Frameworks/Python.framework/Versions/3.11/lib/python3.11/site-packages (from python-dateutil>=2.7->matplotlib) (1.17.0)\n",
            "Installing collected packages: pyparsing, pillow, numpy, kiwisolver, fonttools, cycler, contourpy, matplotlib\n",
            "Successfully installed contourpy-1.3.2 cycler-0.12.1 fonttools-4.59.0 kiwisolver-1.4.8 matplotlib-3.10.3 numpy-2.3.1 pillow-11.3.0 pyparsing-3.2.3\n",
            "\n",
            "\u001b[1m[\u001b[0m\u001b[34;49mnotice\u001b[0m\u001b[1;39;49m]\u001b[0m\u001b[39;49m A new release of pip available: \u001b[0m\u001b[31;49m22.3.1\u001b[0m\u001b[39;49m -> \u001b[0m\u001b[32;49m25.1.1\u001b[0m\n",
            "\u001b[1m[\u001b[0m\u001b[34;49mnotice\u001b[0m\u001b[1;39;49m]\u001b[0m\u001b[39;49m To update, run: \u001b[0m\u001b[32;49mpython3.11 -m pip install --upgrade pip\u001b[0m\n"
          ]
        }
      ],
      "source": [
        "!pip3 install numpy matplotlib\n"
      ]
    },
    {
      "cell_type": "code",
      "execution_count": 9,
      "metadata": {
        "colab": {
          "base_uri": "https://localhost:8080/"
        },
        "id": "pIsVoJmY2MFJ",
        "outputId": "0020a0b7-f9a2-4386-f9ba-7fb3d8ddf027"
      },
      "outputs": [
        {
          "name": "stdout",
          "output_type": "stream",
          "text": [
            "Warning: Brute-force algorithm may be very slow for more than 9 cities.\n",
            "Results for 10 cities:\n",
            "Brute Force: distance = 2.9031, time = 0.7675 sec\n",
            "Nearest Neighbor: distance = 3.1224, time = 0.0000 sec\n",
            "2-opt Swap: distance = 2.9031, time = 0.0001 sec\n"
          ]
        }
      ],
      "source": [
        "import numpy as np\n",
        "import matplotlib.pyplot as plt\n",
        "from itertools import permutations\n",
        "import time\n",
        "\n",
        "# Generate random city coordinates\n",
        "# n_cities defaults to 6\n",
        "def generate_cities(n_cities=6, seed=42):\n",
        "    np.random.seed(seed)\n",
        "    return np.random.rand(n_cities, 2)\n",
        "\n",
        "# Distance matrix\n",
        "def compute_distance_matrix(cities):\n",
        "    n = len(cities)\n",
        "    dist = np.zeros((n, n))\n",
        "    for i in range(n):\n",
        "        for j in range(i + 1, n):\n",
        "            d = np.linalg.norm(cities[i] - cities[j])\n",
        "            dist[i, j] = dist[j, i] = d\n",
        "    return dist\n",
        "\n",
        "# Total route distance\n",
        "def route_distance(route, dist_matrix):\n",
        "    return sum(dist_matrix[route[i], route[(i+1)%len(route)]] for i in range(len(route)))\n",
        "\n",
        "# 1. Brute-force TSP\n",
        "# This algorithm finds the shortest possible route by trying every single possible permutation of cities.\n",
        "# It's guaranteed to find the best route, but it's very slow for a large number of cities.\n",
        "def tsp_brute_force(dist_matrix):\n",
        "    n = len(dist_matrix)\n",
        "    shortest_route = None\n",
        "    min_distance = float('inf')\n",
        "    for perm in permutations(range(1, n)):\n",
        "        route = [0] + list(perm)\n",
        "        d = route_distance(route, dist_matrix)\n",
        "        if d < min_distance:\n",
        "            min_distance = d\n",
        "            shortest_route = route\n",
        "    return shortest_route, min_distance\n",
        "\n",
        "# 2. Nearest Neighbor\n",
        "# This is a \"greedy\" algorithm. It starts at a random city and repeatedly visits the nearest unvisited city.\n",
        "# It's much faster than brute-force, but it often doesn't find the best route.\n",
        "def tsp_nearest_neighbor(dist_matrix):\n",
        "    n = len(dist_matrix)\n",
        "    unvisited = set(range(n))\n",
        "    route = [0]\n",
        "    unvisited.remove(0)\n",
        "    while unvisited:\n",
        "        last = route[-1]\n",
        "        next_city = min(unvisited, key=lambda city: dist_matrix[last][city])\n",
        "        route.append(next_city)\n",
        "        unvisited.remove(next_city)\n",
        "    return route, route_distance(route, dist_matrix)\n",
        "\n",
        "# 3. 2-opt Swap\n",
        "# This algorithm starts with a route (e.g., from Nearest Neighbor) and tries to improve it.\n",
        "# It repeatedly swaps pairs of edges to see if it can find a shorter route.\n",
        "def two_opt(route, dist_matrix):\n",
        "    improved = True\n",
        "    best = route[:]\n",
        "    best_distance = route_distance(best, dist_matrix)\n",
        "    while improved:\n",
        "        improved = False\n",
        "        for i in range(1, len(route) - 2):\n",
        "            for j in range(i + 1, len(route)):\n",
        "                if j - i == 1: continue\n",
        "                new_route = best[:]\n",
        "                new_route[i:j] = best[j-1:i-1:-1]\n",
        "                new_dist = route_distance(new_route, dist_matrix)\n",
        "                if new_dist < best_distance:\n",
        "                    best = new_route\n",
        "                    best_distance = new_dist\n",
        "                    improved = True\n",
        "        route = best[:]\n",
        "    return best, best_distance\n",
        "\n",
        "# Run the comparison\n",
        "def compare_algorithms(n_cities=6):\n",
        "    cities = generate_cities(n_cities)\n",
        "    dist_matrix = compute_distance_matrix(cities)\n",
        "\n",
        "    results = {}\n",
        "    routes = {}\n",
        "\n",
        "    if n_cities > 9:\n",
        "        print(\"Warning: Brute-force algorithm may be very slow for more than 9 cities.\")\n",
        "\n",
        "    t0 = time.time()\n",
        "    brute_route, brute_dist = tsp_brute_force(dist_matrix)\n",
        "    t1 = time.time()\n",
        "    results[\"Brute Force\"] = (brute_dist, t1 - t0)\n",
        "    routes[\"Brute Force\"] = brute_route\n",
        "\n",
        "    t0 = time.time()\n",
        "    nn_route, nn_dist = tsp_nearest_neighbor(dist_matrix)\n",
        "    t1 = time.time()\n",
        "    results[\"Nearest Neighbor\"] = (nn_dist, t1 - t0)\n",
        "    routes[\"Nearest Neighbor\"] = nn_route\n",
        "\n",
        "    t0 = time.time()\n",
        "    opt_route, opt_dist = two_opt(nn_route, dist_matrix)\n",
        "    t1 = time.time()\n",
        "    results[\"2-opt Swap\"] = (opt_dist, t1 - t0)\n",
        "    routes[\"2-opt Swap\"] = opt_route\n",
        "\n",
        "    return cities, results, routes\n",
        "\n",
        "# Example usage:\n",
        "# You can now easily change the number of cities by modifying the 'n_cities' variable.\n",
        "n_cities = 10\n",
        "cities, results, routes = compare_algorithms(n_cities)\n",
        "print(f\"Results for {n_cities} cities:\")\n",
        "for name, (dist, duration) in results.items():\n",
        "    print(f\"{name}: distance = {dist:.4f}, time = {duration:.4f} sec\")\n",
        "\n",
        "#Results for 6 cities:\n",
        "#Brute Force: distance = 2.4107, time = 0.0004 sec\n",
        "#Nearest Neighbor: distance = 2.7959, time = 0.0000 sec\n",
        "#2-opt Swap: distance = 2.7516, time = 0.0001 sec\n",
        "\n",
        "#Results for 9 cities:\n",
        "#Brute Force: distance = 2.8665, time = 0.3480 sec\n",
        "#Nearest Neighbor: distance = 3.3975, time = 0.0001 sec\n",
        "#2-opt Swap: distance = 3.3175, time = 0.0004 sec\n",
        "\n",
        "#Warning: Brute-force algorithm may be very slow for more than 9 cities.\n",
        "#Results for 10 cities:\n",
        "#Brute Force: distance = 2.9031, time = 1.5826 sec\n",
        "#Nearest Neighbor: distance = 3.1224, time = 0.0001 sec\n",
        "#2-opt Swap: distance = 2.9031, time = 0.0003 sec\n",
        "\n",
        "#Warning: Brute-force algorithm may be very slow for more than 9 cities.\n",
        "#Results for 11 cities:\n",
        "#Brute Force: distance = 2.9625, time = 18.7909 sec\n",
        "#Nearest Neighbor: distance = 3.8028, time = 0.0001 sec\n",
        "#2-opt Swap: distance = 3.5584, time = 0.0004 sec\n",
        "\n",
        "#Warning: Brute-force algorithm may be very slow for more than 9 cities.\n",
        "#Results for 12 cities:\n",
        "#Brute Force: distance = 2.9725, time = 233.4507 sec\n",
        "#Nearest Neighbor: distance = 3.8542, time = 0.0001 sec\n",
        "#2-opt Swap: distance = 3.5683, time = 0.0005 sec"
      ]
    },
    {
      "cell_type": "code",
      "execution_count": null,
      "metadata": {
        "id": "fgFOH_FB5eND"
      },
      "outputs": [],
      "source": []
    }
  ],
  "metadata": {
    "colab": {
      "provenance": []
    },
    "kernelspec": {
      "display_name": "Python 3",
      "name": "python3"
    },
    "language_info": {
      "codemirror_mode": {
        "name": "ipython",
        "version": 3
      },
      "file_extension": ".py",
      "mimetype": "text/x-python",
      "name": "python",
      "nbconvert_exporter": "python",
      "pygments_lexer": "ipython3",
      "version": "3.11.3"
    }
  },
  "nbformat": 4,
  "nbformat_minor": 0
}
